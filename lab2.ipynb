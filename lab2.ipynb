{
 "cells": [
  {
   "cell_type": "code",
   "execution_count": 1,
   "metadata": {},
   "outputs": [],
   "source": [
    "from matrix import Matrix\n",
    "from row import Row\n",
    "from solver import solve_iter, solve_Seidel, solve_gaussian_choose"
   ]
  },
  {
   "cell_type": "markdown",
   "metadata": {},
   "source": [
    "### Матрица коэфицентов системы"
   ]
  },
  {
   "cell_type": "code",
   "execution_count": 2,
   "metadata": {},
   "outputs": [
    {
     "name": "stdout",
     "output_type": "stream",
     "text": [
      "[ 3       0.0038  0.0049  0.0059]\n",
      "[ 0.0011  2.1     0.0032  0.0043]\n",
      "[-0.0005  0.0005  1.2     0.0026]\n",
      "[-0.0022 -0.0011 -0.0001  0.3   ]\n"
     ]
    }
   ],
   "source": [
    "A = [[ 3,       0.0038,  0.0049, 0.0059],\n",
    "     [ 0.0011,  2.1,     0.0032, 0.0043],\n",
    "     [-0.0005,  0.0005,  1.2,    0.0026],\n",
    "     [-0.0022, -0.0011, -0.0001, 0.3]]\n",
    "A = Matrix(A)\n",
    "print(A)"
   ]
  },
  {
   "cell_type": "code",
   "execution_count": 3,
   "metadata": {},
   "outputs": [
    {
     "name": "stdout",
     "output_type": "stream",
     "text": [
      "[ 0.03    0.0038  0.0049  0.0059]\n",
      "[ 0.0011  0.021   0.0032  0.0043]\n",
      "[-0.0005  0.0005  0.012   0.0026]\n",
      "[-0.0022 -0.0011 -0.0001  0.003 ]\n"
     ]
    }
   ],
   "source": [
    "A = [[ 3/100,       0.0038,  0.0049, 0.0059],\n",
    "     [ 0.0011,  2.1/100,     0.0032, 0.0043],\n",
    "     [-0.0005,  0.0005,  1.2/100,    0.0026],\n",
    "     [-0.0022, -0.0011, -0.0001, 0.3/100]]\n",
    "A = Matrix(A)\n",
    "print(A)"
   ]
  },
  {
   "cell_type": "markdown",
   "metadata": {},
   "source": [
    "### Столбец свободных членов"
   ]
  },
  {
   "cell_type": "code",
   "execution_count": 4,
   "metadata": {},
   "outputs": [
    {
     "name": "stdout",
     "output_type": "stream",
     "text": [
      "[1.5136 1.4782 1.083 0.328]\n"
     ]
    }
   ],
   "source": [
    "b = [1.5136, \n",
    "     1.4782,\n",
    "     1.083,\n",
    "     0.328]\n",
    "b = Row(b)\n",
    "print(b)"
   ]
  },
  {
   "cell_type": "markdown",
   "metadata": {},
   "source": [
    "### Преобразование системы"
   ]
  },
  {
   "cell_type": "code",
   "execution_count": 5,
   "metadata": {},
   "outputs": [
    {
     "name": "stdout",
     "output_type": "stream",
     "text": [
      "[ 0         -0.126667  -0.163333  -0.196667   50.4533]\n",
      "[-0.052381   0         -0.152381  -0.204762   70.3905]\n",
      "[ 0.0416667 -0.0416667  0         -0.216667   90.25  ]\n",
      "[ 0.733333   0.366667   0.0333333  0         109.333 ]\n"
     ]
    }
   ],
   "source": [
    "augmented = Matrix.augmented(A, b)\n",
    "iter_form = augmented.to_iter_form()\n",
    "a_, b_ = iter_form.deaug()\n",
    "print(iter_form)"
   ]
  },
  {
   "cell_type": "markdown",
   "metadata": {},
   "source": [
    "### α"
   ]
  },
  {
   "cell_type": "code",
   "execution_count": 6,
   "metadata": {},
   "outputs": [
    {
     "name": "stdout",
     "output_type": "stream",
     "text": [
      "[ 0         -0.126667  -0.163333  -0.196667]\n",
      "[-0.052381   0         -0.152381  -0.204762]\n",
      "[ 0.0416667 -0.0416667  0         -0.216667]\n",
      "[ 0.733333   0.366667   0.0333333  0       ]\n"
     ]
    }
   ],
   "source": [
    "print(a_)"
   ]
  },
  {
   "cell_type": "markdown",
   "metadata": {},
   "source": [
    "### β"
   ]
  },
  {
   "cell_type": "code",
   "execution_count": 7,
   "metadata": {},
   "outputs": [
    {
     "name": "stdout",
     "output_type": "stream",
     "text": [
      "[50.4533 70.3905 90.25 109.333]\n"
     ]
    }
   ],
   "source": [
    "print(b_)"
   ]
  },
  {
   "cell_type": "markdown",
   "metadata": {},
   "source": [
    "### Проверка условия сходимости"
   ]
  },
  {
   "cell_type": "code",
   "execution_count": 8,
   "metadata": {},
   "outputs": [
    {
     "name": "stdout",
     "output_type": "stream",
     "text": [
      "0.827381\n"
     ]
    }
   ],
   "source": [
    "print(format(a_.norm_one(), 'g'))"
   ]
  },
  {
   "cell_type": "markdown",
   "metadata": {},
   "source": [
    "### Решение методом итераций"
   ]
  },
  {
   "cell_type": "code",
   "execution_count": 9,
   "metadata": {},
   "outputs": [],
   "source": [
    "eps = 1e-13"
   ]
  },
  {
   "cell_type": "code",
   "execution_count": 10,
   "metadata": {},
   "outputs": [
    {
     "name": "stdout",
     "output_type": "stream",
     "text": [
      "eps = 1e-13\n",
      "n_iter = 57\n",
      "answer = [10.4204 33.6808 60.8212 131.352]\n"
     ]
    }
   ],
   "source": [
    "answer, n_iter = solve_iter(iter_form, eps)\n",
    "answer_it = answer\n",
    "print(f\"{eps = }\")\n",
    "print(f\"{n_iter = }\")\n",
    "print(f\"{answer = :g}\")"
   ]
  },
  {
   "cell_type": "markdown",
   "metadata": {},
   "source": [
    "### Решение методом Зейделя"
   ]
  },
  {
   "cell_type": "code",
   "execution_count": 11,
   "metadata": {},
   "outputs": [
    {
     "name": "stdout",
     "output_type": "stream",
     "text": [
      "eps = 1e-13\n",
      "n_iter = 35\n",
      "answer = [10.4204 33.6808 60.8212 131.352]\n"
     ]
    }
   ],
   "source": [
    "answer, n_iter = solve_Seidel(iter_form, eps)\n",
    "answer_seid = answer\n",
    "print(f\"{eps = }\")\n",
    "print(f\"{n_iter = }\")\n",
    "print(f\"{answer = :g}\")"
   ]
  },
  {
   "cell_type": "markdown",
   "metadata": {},
   "source": [
    "### Абсолютная погрешность"
   ]
  },
  {
   "cell_type": "code",
   "execution_count": 12,
   "metadata": {},
   "outputs": [
    {
     "name": "stdout",
     "output_type": "stream",
     "text": [
      "Метод  итераций    Зейделя\n",
      "1    [ 5.32907e-14  8.17124e-14]\n",
      "oo   [ 2.84217e-14  2.84217e-14]\n",
      "2    [ 3.57043e-14  4.56354e-14]\n"
     ]
    }
   ],
   "source": [
    "exact = solve_gaussian_choose(augmented)\n",
    "result = list()\n",
    "for f in [Row.norm_one, Row.norm_inf, Row.norm_two]:\n",
    "    result.append([f(exact - answer_it), f((exact - answer_seid))])\n",
    "print(\"Метод  итераций    Зейделя\")\n",
    "for row, name in zip(str(Matrix(result)).splitlines(), ['1', 'oo', '2']):\n",
    "    print(f\"{name:4}\", row)"
   ]
  },
  {
   "cell_type": "markdown",
   "metadata": {},
   "source": [
    "### Относительная погрешность"
   ]
  },
  {
   "cell_type": "code",
   "execution_count": 13,
   "metadata": {},
   "outputs": [
    {
     "name": "stdout",
     "output_type": "stream",
     "text": [
      "Метод  итераций    Зейделя\n",
      "1    [ 2.25546e-16  3.45837e-16]\n",
      "oo   [ 2.16378e-16  2.16378e-16]\n",
      "2    [ 2.39656e-16  3.06316e-16]\n"
     ]
    }
   ],
   "source": [
    "result = list()\n",
    "for f in [Row.norm_one, Row.norm_inf, Row.norm_two]:\n",
    "    result.append([f(exact - answer_it)/f(answer_it), \n",
    "                   f((exact - answer_seid)/f(answer_it))])\n",
    "print(\"Метод  итераций    Зейделя\")\n",
    "for row, name in zip(str(Matrix(result)).splitlines(), ['1', 'oo', '2']):\n",
    "    print(f\"{name:4}\", row)"
   ]
  }
 ],
 "metadata": {
  "kernelspec": {
   "display_name": "Python 3",
   "language": "python",
   "name": "python3"
  },
  "language_info": {
   "codemirror_mode": {
    "name": "ipython",
    "version": 3
   },
   "file_extension": ".py",
   "mimetype": "text/x-python",
   "name": "python",
   "nbconvert_exporter": "python",
   "pygments_lexer": "ipython3",
   "version": "3.12.2"
  }
 },
 "nbformat": 4,
 "nbformat_minor": 2
}
