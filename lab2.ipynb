{
 "cells": [
  {
   "cell_type": "code",
   "execution_count": 1,
   "metadata": {},
   "outputs": [],
   "source": [
    "from matrix import Matrix\n",
    "from row import Row\n",
    "from solver import solve_iter, solve_Seidel, solve_gaussian_choose"
   ]
  },
  {
   "cell_type": "markdown",
   "metadata": {},
   "source": [
    "### Матрица коэфицентов системы"
   ]
  },
  {
   "cell_type": "code",
   "execution_count": 2,
   "metadata": {},
   "outputs": [
    {
     "name": "stdout",
     "output_type": "stream",
     "text": [
      "[ 0.3     0.0038  0.0049  0.0059]\n",
      "[ 0.0011  0.21    0.0032  0.0043]\n",
      "[-0.0005  0.0005  0.12    0.0026]\n",
      "[-0.0022 -0.0011 -0.0001  0.03  ]\n"
     ]
    }
   ],
   "source": [
    "A = [[ 3/10,       0.0038,  0.0049, 0.0059],\n",
    "     [ 0.0011,  2.1/10,     0.0032, 0.0043],\n",
    "     [-0.0005,  0.0005,  1.2/10,    0.0026],\n",
    "     [-0.0022, -0.0011, -0.0001, 0.3/10]]\n",
    "A = Matrix(A)\n",
    "print(A)"
   ]
  },
  {
   "cell_type": "code",
   "execution_count": 3,
   "metadata": {},
   "outputs": [
    {
     "name": "stdout",
     "output_type": "stream",
     "text": [
      "[ 3       0.0038  0.0049  0.0059]\n",
      "[ 0.0011  2.1     0.0032  0.0043]\n",
      "[-0.0005  0.0005  1.2     0.0026]\n",
      "[-0.0022 -0.0011 -0.0001  0.3   ]\n"
     ]
    }
   ],
   "source": [
    "A = [[ 3,       0.0038,  0.0049, 0.0059],\n",
    "     [ 0.0011,  2.1,     0.0032, 0.0043],\n",
    "     [-0.0005,  0.0005,  1.2,    0.0026],\n",
    "     [-0.0022, -0.0011, -0.0001, 0.3]]\n",
    "A = Matrix(A)\n",
    "print(A)"
   ]
  },
  {
   "cell_type": "markdown",
   "metadata": {},
   "source": [
    "### Столбец свободных членов"
   ]
  },
  {
   "cell_type": "code",
   "execution_count": 4,
   "metadata": {},
   "outputs": [
    {
     "name": "stdout",
     "output_type": "stream",
     "text": [
      "[1.5136 1.4782 1.083 0.328]\n"
     ]
    }
   ],
   "source": [
    "b = [1.5136, \n",
    "     1.4782,\n",
    "     1.083,\n",
    "     0.328]\n",
    "b = Row(b)\n",
    "print(b)"
   ]
  },
  {
   "cell_type": "markdown",
   "metadata": {},
   "source": [
    "### Преобразование системы"
   ]
  },
  {
   "cell_type": "code",
   "execution_count": 5,
   "metadata": {},
   "outputs": [
    {
     "name": "stdout",
     "output_type": "stream",
     "text": [
      "[ 0           -0.00126667  -0.00163333  -0.00196667  0.504533]\n",
      "[-0.00052381   0           -0.00152381  -0.00204762  0.703905]\n",
      "[ 0.000416667 -0.000416667  0           -0.00216667  0.9025  ]\n",
      "[ 0.00733333   0.00366667   0.000333333  0           1.09333 ]\n"
     ]
    }
   ],
   "source": [
    "augmented = Matrix.augmented(A, b)\n",
    "iter_form = augmented.to_iter_form()\n",
    "a_, b_ = iter_form.deaug()\n",
    "print(iter_form)"
   ]
  },
  {
   "cell_type": "markdown",
   "metadata": {},
   "source": [
    "### α"
   ]
  },
  {
   "cell_type": "code",
   "execution_count": 6,
   "metadata": {},
   "outputs": [
    {
     "name": "stdout",
     "output_type": "stream",
     "text": [
      "[ 0           -0.00126667  -0.00163333  -0.00196667]\n",
      "[-0.00052381   0           -0.00152381  -0.00204762]\n",
      "[ 0.000416667 -0.000416667  0           -0.00216667]\n",
      "[ 0.00733333   0.00366667   0.000333333  0         ]\n"
     ]
    }
   ],
   "source": [
    "print(a_)"
   ]
  },
  {
   "cell_type": "markdown",
   "metadata": {},
   "source": [
    "### β"
   ]
  },
  {
   "cell_type": "code",
   "execution_count": 7,
   "metadata": {},
   "outputs": [
    {
     "name": "stdout",
     "output_type": "stream",
     "text": [
      "[0.504533 0.703905 0.9025 1.09333]\n"
     ]
    }
   ],
   "source": [
    "print(b_)"
   ]
  },
  {
   "cell_type": "markdown",
   "metadata": {},
   "source": [
    "### Проверка условия сходимости"
   ]
  },
  {
   "cell_type": "code",
   "execution_count": 8,
   "metadata": {},
   "outputs": [
    {
     "name": "stdout",
     "output_type": "stream",
     "text": [
      "0.00827381\n"
     ]
    }
   ],
   "source": [
    "print(format(a_.norm_one(), 'g'))"
   ]
  },
  {
   "cell_type": "markdown",
   "metadata": {},
   "source": [
    "### Решение методом итераций"
   ]
  },
  {
   "cell_type": "code",
   "execution_count": 9,
   "metadata": {},
   "outputs": [],
   "source": [
    "eps = 1e-15"
   ]
  },
  {
   "cell_type": "code",
   "execution_count": 10,
   "metadata": {},
   "outputs": [
    {
     "name": "stdout",
     "output_type": "stream",
     "text": [
      "eps = 1e-15\n",
      "n_iter = 6\n",
      "answer = [0.500014 0.700019 0.900034 1.09987]\n"
     ]
    }
   ],
   "source": [
    "answer, n_iter = solve_iter(iter_form, eps)\n",
    "answer_it = answer\n",
    "print(f\"{eps = }\")\n",
    "print(f\"{n_iter = }\")\n",
    "print(f\"{answer = :g}\")"
   ]
  },
  {
   "cell_type": "markdown",
   "metadata": {},
   "source": [
    "### Решение методом Зейделя"
   ]
  },
  {
   "cell_type": "code",
   "execution_count": 11,
   "metadata": {},
   "outputs": [
    {
     "name": "stdout",
     "output_type": "stream",
     "text": [
      "eps = 1e-15\n",
      "n_iter = 5\n",
      "answer = [0.500014 0.700019 0.900034 1.09987]\n"
     ]
    }
   ],
   "source": [
    "answer, n_iter = solve_Seidel(iter_form, eps)\n",
    "answer_seid = answer\n",
    "print(f\"{eps = }\")\n",
    "print(f\"{n_iter = }\")\n",
    "print(f\"{answer = :g}\")"
   ]
  },
  {
   "cell_type": "markdown",
   "metadata": {},
   "source": [
    "### Абсолютная погрешность"
   ]
  },
  {
   "cell_type": "code",
   "execution_count": 12,
   "metadata": {},
   "outputs": [
    {
     "name": "stdout",
     "output_type": "stream",
     "text": [
      "Метод  итераций    Зейделя\n",
      "1    [ 3.33067e-16  1.11022e-16]\n",
      "oo   [ 2.22045e-16  1.11022e-16]\n",
      "2    [ 2.48253e-16  1.11022e-16]\n"
     ]
    }
   ],
   "source": [
    "exact = solve_gaussian_choose(augmented)\n",
    "result = list()\n",
    "for f in [Row.norm_one, Row.norm_inf, Row.norm_two]:\n",
    "    result.append([f(exact - answer_it), f((exact - answer_seid))])\n",
    "print(\"Метод  итераций    Зейделя\")\n",
    "for row, name in zip(str(Matrix(result)).splitlines(), ['1', 'oo', '2']):\n",
    "    print(f\"{name:4}\", row)"
   ]
  },
  {
   "cell_type": "markdown",
   "metadata": {},
   "source": [
    "### Относительная погрешность"
   ]
  },
  {
   "cell_type": "code",
   "execution_count": 13,
   "metadata": {},
   "outputs": [
    {
     "name": "stdout",
     "output_type": "stream",
     "text": [
      "Метод  итераций    Зейделя\n",
      "1    [ 1.04086e-16  3.46952e-17]\n",
      "oo   [ 2.01883e-16  1.00942e-16]\n",
      "2    [ 1.49436e-16  6.68299e-17]\n"
     ]
    }
   ],
   "source": [
    "result = list()\n",
    "for f in [Row.norm_one, Row.norm_inf, Row.norm_two]:\n",
    "    result.append([f(exact - answer_it)/f(answer_it), \n",
    "                   f((exact - answer_seid)/f(answer_it))])\n",
    "print(\"Метод  итераций    Зейделя\")\n",
    "for row, name in zip(str(Matrix(result)).splitlines(), ['1', 'oo', '2']):\n",
    "    print(f\"{name:4}\", row)"
   ]
  }
 ],
 "metadata": {
  "kernelspec": {
   "display_name": "Python 3",
   "language": "python",
   "name": "python3"
  },
  "language_info": {
   "codemirror_mode": {
    "name": "ipython",
    "version": 3
   },
   "file_extension": ".py",
   "mimetype": "text/x-python",
   "name": "python",
   "nbconvert_exporter": "python",
   "pygments_lexer": "ipython3",
   "version": "3.12.6"
  }
 },
 "nbformat": 4,
 "nbformat_minor": 2
}
