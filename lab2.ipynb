{
 "cells": [
  {
   "cell_type": "code",
   "execution_count": 24,
   "metadata": {},
   "outputs": [],
   "source": [
    "from matrix import Matrix\n",
    "from row import Row\n",
    "from solver import solve_iter, solve_Seidel, solve_gaussian_single"
   ]
  },
  {
   "cell_type": "markdown",
   "metadata": {},
   "source": [
    "### Матрица коэфицентов системы"
   ]
  },
  {
   "cell_type": "code",
   "execution_count": 25,
   "metadata": {},
   "outputs": [
    {
     "name": "stdout",
     "output_type": "stream",
     "text": [
      "[ 3       0.0038  0.0049  0.0059]\n",
      "[ 0.0011  2.1     0.0032  0.0043]\n",
      "[-0.0005  0.0005  1.2     0.0026]\n",
      "[-0.0022 -0.0011 -0.0001  0.3   ]\n"
     ]
    }
   ],
   "source": [
    "A = [[ 3,       0.0038,  0.0049, 0.0059],\n",
    "     [ 0.0011,  2.1,     0.0032, 0.0043],\n",
    "     [-0.0005,  0.0005,  1.2,    0.0026],\n",
    "     [-0.0022, -0.0011, -0.0001, 0.3]]\n",
    "A = Matrix(A)\n",
    "print(A)"
   ]
  },
  {
   "cell_type": "markdown",
   "metadata": {},
   "source": [
    "### Столбец свободных членов"
   ]
  },
  {
   "cell_type": "code",
   "execution_count": 26,
   "metadata": {},
   "outputs": [
    {
     "name": "stdout",
     "output_type": "stream",
     "text": [
      "[1.5136 1.4782 1.083 0.328]\n"
     ]
    }
   ],
   "source": [
    "b = [1.5136, \n",
    "     1.4782,\n",
    "     1.083,\n",
    "     0.328]\n",
    "b = Row(b)\n",
    "print(b)"
   ]
  },
  {
   "cell_type": "markdown",
   "metadata": {},
   "source": [
    "### Преобразование системы"
   ]
  },
  {
   "cell_type": "code",
   "execution_count": 27,
   "metadata": {},
   "outputs": [
    {
     "name": "stdout",
     "output_type": "stream",
     "text": [
      "[ 0           -0.00126667  -0.00163333  -0.00196667  0.504533]\n",
      "[-0.00052381   0           -0.00152381  -0.00204762  0.703905]\n",
      "[ 0.000416667 -0.000416667  0           -0.00216667  0.9025  ]\n",
      "[ 0.00733333   0.00366667   0.000333333  0           1.09333 ]\n"
     ]
    }
   ],
   "source": [
    "augmented = Matrix.augmented(A, b)\n",
    "iter_form = augmented.to_iter_form()\n",
    "a_, b_ = iter_form.deaug()\n",
    "print(iter_form)"
   ]
  },
  {
   "cell_type": "markdown",
   "metadata": {},
   "source": [
    "### α"
   ]
  },
  {
   "cell_type": "code",
   "execution_count": 28,
   "metadata": {},
   "outputs": [
    {
     "name": "stdout",
     "output_type": "stream",
     "text": [
      "[ 0           -0.00126667  -0.00163333  -0.00196667]\n",
      "[-0.00052381   0           -0.00152381  -0.00204762]\n",
      "[ 0.000416667 -0.000416667  0           -0.00216667]\n",
      "[ 0.00733333   0.00366667   0.000333333  0         ]\n"
     ]
    }
   ],
   "source": [
    "print(a_)"
   ]
  },
  {
   "cell_type": "markdown",
   "metadata": {},
   "source": [
    "### β"
   ]
  },
  {
   "cell_type": "code",
   "execution_count": 29,
   "metadata": {},
   "outputs": [
    {
     "name": "stdout",
     "output_type": "stream",
     "text": [
      "[0.504533 0.703905 0.9025 1.09333]\n"
     ]
    }
   ],
   "source": [
    "print(b_)"
   ]
  },
  {
   "cell_type": "markdown",
   "metadata": {},
   "source": [
    "### Проверка условия сходимости"
   ]
  },
  {
   "cell_type": "code",
   "execution_count": 30,
   "metadata": {},
   "outputs": [
    {
     "name": "stdout",
     "output_type": "stream",
     "text": [
      "0.00827381\n"
     ]
    }
   ],
   "source": [
    "print(format(a_.norm_one(), 'g'))"
   ]
  },
  {
   "cell_type": "markdown",
   "metadata": {},
   "source": [
    "### Решение методом итераций"
   ]
  },
  {
   "cell_type": "code",
   "execution_count": 31,
   "metadata": {},
   "outputs": [
    {
     "name": "stdout",
     "output_type": "stream",
     "text": [
      "eps = 1e-15\n",
      "n_iter = 8\n",
      "answer = [0.504533 0.703328 0.902959 1.10141]\n"
     ]
    }
   ],
   "source": [
    "eps = 1e-15\n",
    "answer, n_iter = solve_iter(iter_form, eps)\n",
    "answer_it = answer\n",
    "print(f\"{eps = }\")\n",
    "print(f\"{n_iter = }\")\n",
    "print(f\"{answer = :g}\")"
   ]
  },
  {
   "cell_type": "markdown",
   "metadata": {},
   "source": [
    "### Решение методом Зейделя"
   ]
  },
  {
   "cell_type": "code",
   "execution_count": 32,
   "metadata": {},
   "outputs": [
    {
     "name": "stdout",
     "output_type": "stream",
     "text": [
      "eps = 1e-15\n",
      "n_iter = 6\n",
      "answer = [0.500014 0.700019 0.900034 1.09987]\n"
     ]
    }
   ],
   "source": [
    "eps = 1e-15\n",
    "answer, n_iter = solve_Seidel(iter_form, eps)\n",
    "answer_seid = answer\n",
    "print(f\"{eps = }\")\n",
    "print(f\"{n_iter = }\")\n",
    "print(f\"{answer = :g}\")"
   ]
  },
  {
   "cell_type": "markdown",
   "metadata": {},
   "source": [
    "### Абсолютная погрешность"
   ]
  },
  {
   "cell_type": "code",
   "execution_count": 41,
   "metadata": {},
   "outputs": [
    {
     "data": {
      "text/plain": [
       "0.012297184601558264"
      ]
     },
     "execution_count": 41,
     "metadata": {},
     "output_type": "execute_result"
    }
   ],
   "source": [
    "exact = solve_gaussian_single(augmented)\n",
    "(exact - answer_it).norm_one()"
   ]
  },
  {
   "cell_type": "markdown",
   "metadata": {},
   "source": [
    "### Относительная погрешность"
   ]
  },
  {
   "cell_type": "code",
   "execution_count": 40,
   "metadata": {},
   "outputs": [
    {
     "data": {
      "text/plain": [
       "0.0038282386246732397"
      ]
     },
     "execution_count": 40,
     "metadata": {},
     "output_type": "execute_result"
    }
   ],
   "source": [
    "(exact - answer_it).norm_one() / answer_it.norm_one()"
   ]
  }
 ],
 "metadata": {
  "kernelspec": {
   "display_name": "Python 3",
   "language": "python",
   "name": "python3"
  },
  "language_info": {
   "codemirror_mode": {
    "name": "ipython",
    "version": 3
   },
   "file_extension": ".py",
   "mimetype": "text/x-python",
   "name": "python",
   "nbconvert_exporter": "python",
   "pygments_lexer": "ipython3",
   "version": "3.12.2"
  }
 },
 "nbformat": 4,
 "nbformat_minor": 2
}
