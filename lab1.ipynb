{
 "cells": [
  {
   "cell_type": "code",
   "execution_count": 7,
   "metadata": {},
   "outputs": [],
   "source": [
    "from matrix import Matrix\n",
    "from row import Row\n",
    "from solver import (find_determinant, gaussian_backward, gaussian_forward,\n",
    "                    solve_gaussian_choose, solve_gaussian_single)"
   ]
  },
  {
   "cell_type": "markdown",
   "metadata": {},
   "source": [
    "### Матрица коэфицентов системы"
   ]
  },
  {
   "cell_type": "code",
   "execution_count": 2,
   "metadata": {},
   "outputs": [
    {
     "name": "stdout",
     "output_type": "stream",
     "text": [
      "[ 2.18,  2.44,  2.49]\n",
      "[ 2.17,  2.31,  2.49]\n",
      "[ 3.15,  3.22,  3.17]\n"
     ]
    }
   ],
   "source": [
    "A = [[2.18, 2.44, 2.49],\n",
    "     [2.17, 2.31, 2.49],\n",
    "     [3.15, 3.22, 3.17],]\n",
    "A = Matrix(A)\n",
    "print(A)"
   ]
  },
  {
   "cell_type": "markdown",
   "metadata": {},
   "source": [
    "### Столбец свободных членоы"
   ]
  },
  {
   "cell_type": "code",
   "execution_count": 3,
   "metadata": {},
   "outputs": [
    {
     "name": "stdout",
     "output_type": "stream",
     "text": [
      "[-4.34, -3.91, -5.27]\n"
     ]
    }
   ],
   "source": [
    "b = [-4.34, -3.91, -5.27]\n",
    "b = Row(b)\n",
    "print(b)"
   ]
  },
  {
   "cell_type": "markdown",
   "metadata": {},
   "source": [
    "### Расширенная матрица"
   ]
  },
  {
   "cell_type": "code",
   "execution_count": 4,
   "metadata": {},
   "outputs": [
    {
     "name": "stdout",
     "output_type": "stream",
     "text": [
      "[ 2.18,  2.44,  2.49, -4.34]\n",
      "[ 2.17,  2.31,  2.49, -3.91]\n",
      "[ 3.15,  3.22,  3.17, -5.27]\n"
     ]
    }
   ],
   "source": [
    "matrix = Matrix.augmented(A, b)\n",
    "print(matrix)"
   ]
  },
  {
   "cell_type": "markdown",
   "metadata": {},
   "source": [
    "### После прямого прохода"
   ]
  },
  {
   "cell_type": "code",
   "execution_count": 5,
   "metadata": {},
   "outputs": [
    {
     "name": "stdout",
     "output_type": "stream",
     "text": [
      "[ 1.00,  1.12,  1.14, -1.99]\n",
      "[-0.00,  1.00, -0.10, -3.45]\n",
      "[-0.00, -0.00,  1.00,  0.12]\n"
     ]
    }
   ],
   "source": [
    "gaussian_forward(matrix)\n",
    "print(matrix)"
   ]
  },
  {
   "cell_type": "markdown",
   "metadata": {},
   "source": [
    "### После обратного прохода"
   ]
  },
  {
   "cell_type": "code",
   "execution_count": 8,
   "metadata": {},
   "outputs": [
    {
     "name": "stdout",
     "output_type": "stream",
     "text": [
      "[ 1.00,  0.00,  0.00,  1.72]\n",
      "[-0.00,  1.00,  0.00, -3.44]\n",
      "[-0.00, -0.00,  1.00,  0.12]\n"
     ]
    }
   ],
   "source": [
    "gaussian_backward(matrix)\n",
    "print(matrix)"
   ]
  },
  {
   "cell_type": "markdown",
   "metadata": {},
   "source": [
    "### Вектор x"
   ]
  },
  {
   "cell_type": "code",
   "execution_count": 9,
   "metadata": {},
   "outputs": [
    {
     "name": "stdout",
     "output_type": "stream",
     "text": [
      "[1.72486, -3.44037, 0.118196]\n"
     ]
    }
   ],
   "source": [
    "res = matrix.get_vector_b()\n",
    "print(res)"
   ]
  },
  {
   "cell_type": "markdown",
   "metadata": {},
   "source": [
    "### Вектор невязки"
   ]
  },
  {
   "cell_type": "code",
   "execution_count": 10,
   "metadata": {},
   "outputs": [
    {
     "name": "stdout",
     "output_type": "stream",
     "text": [
      "[0, 0, -8.88178e-16]\n"
     ]
    }
   ],
   "source": [
    "got = A.fit(res)\n",
    "expected = b\n",
    "residual = expected.residual(got)\n",
    "print(residual)"
   ]
  },
  {
   "cell_type": "markdown",
   "metadata": {},
   "source": [
    "### Норма1 ветора невязки"
   ]
  },
  {
   "cell_type": "code",
   "execution_count": 11,
   "metadata": {},
   "outputs": [
    {
     "name": "stdout",
     "output_type": "stream",
     "text": [
      "8.881784197001252e-16\n"
     ]
    }
   ],
   "source": [
    "print(residual.norm_one())"
   ]
  },
  {
   "cell_type": "markdown",
   "metadata": {},
   "source": [
    "### Для метода выбора ведущего элемента"
   ]
  },
  {
   "cell_type": "code",
   "execution_count": 13,
   "metadata": {},
   "outputs": [
    {
     "name": "stdout",
     "output_type": "stream",
     "text": [
      "1.3322676295501878e-15\n"
     ]
    }
   ],
   "source": [
    "matrix = Matrix.augmented(A, b)\n",
    "solve_gaussian_choose(matrix)\n",
    "got = A.fit(matrix.get_vector_b())\n",
    "residual = b.residual(got)\n",
    "print(residual.norm_one())"
   ]
  },
  {
   "cell_type": "markdown",
   "metadata": {},
   "source": [
    "### Определитель"
   ]
  },
  {
   "cell_type": "code",
   "execution_count": 14,
   "metadata": {},
   "outputs": [
    {
     "name": "stdout",
     "output_type": "stream",
     "text": [
      "0.11844699999999962\n"
     ]
    }
   ],
   "source": [
    "print(find_determinant(Matrix(A)))"
   ]
  },
  {
   "cell_type": "markdown",
   "metadata": {},
   "source": [
    "### Единичная матрица"
   ]
  },
  {
   "cell_type": "code",
   "execution_count": 18,
   "metadata": {},
   "outputs": [
    {
     "name": "stdout",
     "output_type": "stream",
     "text": [
      "[ 2.18,  2.44,  2.49,  1.00,  0.00,  0.00]\n",
      "[ 2.17,  2.31,  2.49,  0.00,  1.00,  0.00]\n",
      "[ 3.15,  3.22,  3.17,  0.00,  0.00,  1.00]\n"
     ]
    }
   ],
   "source": [
    "matrix = Matrix.concat(A, Matrix.one(A.height))\n",
    "print(matrix)"
   ]
  },
  {
   "cell_type": "markdown",
   "metadata": {},
   "source": [
    "### После преобразований"
   ]
  },
  {
   "cell_type": "code",
   "execution_count": 20,
   "metadata": {},
   "outputs": [
    {
     "name": "stdout",
     "output_type": "stream",
     "text": [
      "[ 1.00,  0.00,  0.00, -5.87,  2.39,  2.73]\n",
      "[-0.00,  1.00,  0.00,  8.14, -7.88, -0.21]\n",
      "[-0.00, -0.00,  1.00, -2.44,  5.63, -2.19]\n"
     ]
    }
   ],
   "source": [
    "gaussian_forward(matrix)\n",
    "gaussian_backward(matrix)\n",
    "print(matrix)"
   ]
  },
  {
   "cell_type": "markdown",
   "metadata": {},
   "source": [
    "### Обратная матрица"
   ]
  },
  {
   "cell_type": "code",
   "execution_count": 21,
   "metadata": {},
   "outputs": [
    {
     "name": "stdout",
     "output_type": "stream",
     "text": [
      "[-5.87,  2.39,  2.73]\n",
      "[ 8.14, -7.88, -0.21]\n",
      "[-2.44,  5.63, -2.19]\n"
     ]
    }
   ],
   "source": [
    "invertible = matrix.get_right_half()\n",
    "print(invertible)"
   ]
  },
  {
   "cell_type": "markdown",
   "metadata": {},
   "source": [
    "### Произведение матриц"
   ]
  },
  {
   "cell_type": "code",
   "execution_count": 22,
   "metadata": {},
   "outputs": [
    {
     "name": "stdout",
     "output_type": "stream",
     "text": [
      "[ 1.00,  0.00,  0.00]\n",
      "[ 0.00,  1.00,  0.00]\n",
      "[-0.00, -0.00,  1.00]\n"
     ]
    }
   ],
   "source": [
    "print(invertible @ A)"
   ]
  },
  {
   "cell_type": "markdown",
   "metadata": {},
   "source": [
    "### Число обусловленности"
   ]
  },
  {
   "cell_type": "code",
   "execution_count": 23,
   "metadata": {},
   "outputs": [
    {
     "name": "stdout",
     "output_type": "stream",
     "text": [
      "           Норма 1: 134.091365758524773\n",
      "           Норма ∞: 154.834618014808086\n",
      "  Норма Фробениуса: 117.757254168499244\n",
      "Максимальная норма: 236.005200638259879\n"
     ]
    }
   ],
   "source": [
    "names = [\"Норма 1\", \"Норма ∞\", \"Норма Фробениуса\", \"Максимальная норма\"]\n",
    "funcs = [Matrix.norm_one, Matrix.norm_inf, Matrix.norm_F, Matrix.norm_M]\n",
    "for name, func in zip(names, funcs):\n",
    "    print(f\"{name:>18}: {func(A)*func(invertible):.15f}\", )"
   ]
  },
  {
   "cell_type": "markdown",
   "metadata": {},
   "source": [
    "### Вектор относительных погрешностей решения"
   ]
  },
  {
   "cell_type": "code",
   "execution_count": 27,
   "metadata": {},
   "outputs": [
    {
     "name": "stdout",
     "output_type": "stream",
     "text": [
      "3.007796333374345\n"
     ]
    }
   ],
   "source": [
    "delta_b = Row([0, 1, 0])\n",
    "wrong_b = b + delta_b\n",
    "exact = solve_gaussian_single(Matrix.augmented(A, b))\n",
    "wrong = solve_gaussian_single(Matrix.augmented(A, wrong_b))\n",
    "print(wrong.norm_one() / exact.norm_one())"
   ]
  },
  {
   "cell_type": "markdown",
   "metadata": {},
   "source": [
    "### Теоретическая относительная погрешность"
   ]
  },
  {
   "cell_type": "code",
   "execution_count": 28,
   "metadata": {},
   "outputs": [
    {
     "name": "stdout",
     "output_type": "stream",
     "text": [
      "9.918000425926389\n"
     ]
    }
   ],
   "source": [
    "condition_number = A.norm_one() * invertible.norm_one()\n",
    "print(delta_b.norm_one() / b.norm_one() * condition_number)"
   ]
  }
 ],
 "metadata": {
  "kernelspec": {
   "display_name": "Python 3",
   "language": "python",
   "name": "python3"
  },
  "language_info": {
   "codemirror_mode": {
    "name": "ipython",
    "version": 3
   },
   "file_extension": ".py",
   "mimetype": "text/x-python",
   "name": "python",
   "nbconvert_exporter": "python",
   "pygments_lexer": "ipython3",
   "version": "3.12.2"
  }
 },
 "nbformat": 4,
 "nbformat_minor": 2
}
